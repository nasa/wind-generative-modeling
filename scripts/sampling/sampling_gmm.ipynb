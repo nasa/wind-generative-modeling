{
 "cells": [
  {
   "cell_type": "markdown",
   "id": "752a9428-3067-4ad0-a29a-89ed1d60851e",
   "metadata": {},
   "source": [
    "This notebook samples from the GMM model fit in `../../train_gmm.ipynb` and `../../train_gmm_w_macro_holdouts.ipynb`."
   ]
  },
  {
   "cell_type": "code",
   "execution_count": 1,
   "id": "089bad1a-c769-4714-857f-9a880cc5131e",
   "metadata": {},
   "outputs": [],
   "source": [
    "import matplotlib.pyplot as plt\n",
    "import numpy as np\n",
    "import pandas as pd\n",
    "import pickle\n",
    "import seaborn as sns\n",
    "from scipy import stats\n",
    "from tqdm.notebook import tqdm\n",
    "\n",
    "from sklearn.decomposition import PCA\n",
    "from sklearn.mixture import GaussianMixture\n",
    "\n",
    "sns.set_theme(style = 'dark')"
   ]
  },
  {
   "cell_type": "markdown",
   "id": "bfed2320-2583-4359-b512-3efc4addfb47",
   "metadata": {
    "jp-MarkdownHeadingCollapsed": true
   },
   "source": [
    "#### Support functions"
   ]
  },
  {
   "cell_type": "code",
   "execution_count": 20,
   "id": "7ac231a1-d1af-4c23-90f5-3b18e217597f",
   "metadata": {},
   "outputs": [],
   "source": [
    "def wd_s_to_uv(ws, wd):\n",
    "    \"\"\"\n",
    "    Translate wind speed and direction to (u,v).\n",
    "    \"\"\"\n",
    "    return -ws * np.sin(wd * (np.pi / 180.)), -ws * np.cos(wd * (np.pi / 180.))\n",
    "\n",
    "def wd_s_to_u(ws, wd):\n",
    "    \"\"\"\n",
    "    Translate wind speed and direction to u.\n",
    "    \"\"\"\n",
    "    return -ws * np.sin(wd * (np.pi / 180.))\n",
    "\n",
    "def wd_s_to_v(ws, wd):\n",
    "    \"\"\"\n",
    "    Translate wind speed and direction to v.\n",
    "    \"\"\"\n",
    "    return -ws * np.cos(wd * (np.pi / 180.))\n",
    "\n",
    "def uv_to_dir(u, v):\n",
    "    \"\"\"\n",
    "    Wind components --> direction\n",
    "    \"\"\"\n",
    "    sp = np.sqrt(u ** 2 + v ** 2)\n",
    "    u_prime, v_prime = u / sp, v / sp\n",
    "    return 360 - np.arccos(-v_prime) * (180 / np.pi)\n",
    "\n",
    "def deg_to_dir(deg):\n",
    "    \"\"\"\n",
    "    Translates from 360 degree to string direction\n",
    "    \"\"\"\n",
    "    if deg <= 22.5:\n",
    "        return 'NNE'\n",
    "    elif deg <= 45.:\n",
    "        return 'NE'\n",
    "    elif deg <= 67.5:\n",
    "        return 'ENE'\n",
    "    elif deg <= 90.:\n",
    "        return 'E'\n",
    "    elif deg <= 112.5:\n",
    "        return 'ESE'\n",
    "    elif deg <= 135.:\n",
    "        return 'SE'\n",
    "    elif deg <= 157.5:\n",
    "        return 'SSE'\n",
    "    elif deg <= 180.:\n",
    "        return 'S'\n",
    "    elif deg <= 202.5:\n",
    "        return 'SSW'\n",
    "    elif deg <= 225.:\n",
    "        return 'SW'\n",
    "    elif deg <= 247.5:\n",
    "        return 'WSW'\n",
    "    elif deg <= 270.:\n",
    "        return 'W'\n",
    "    elif deg <= 292.5:\n",
    "        return 'WNW'\n",
    "    elif deg <= 315.:\n",
    "        return 'NW'\n",
    "    elif deg <= 337.5:\n",
    "        return 'NNW'\n",
    "    else:\n",
    "        return 'Unknown'\n",
    "\n",
    "def speed_num_to_str(speed):\n",
    "    \"\"\"\n",
    "    Converted computed windspeed to str category\n",
    "    \"\"\"\n",
    "    if speed <= 2.235:\n",
    "        return '(-0.001, 2.235]'\n",
    "    elif speed <= 5.364:\n",
    "        return '(2.235, 5.364]'\n",
    "    elif speed <= 8.047:\n",
    "        return '(5.364, 8.047]'\n",
    "    elif speed <= 15.646:\n",
    "        return '(8.047, 15.646]'\n",
    "    else:\n",
    "        return 'Uncategorized'"
   ]
  },
  {
   "cell_type": "markdown",
   "id": "d7522636-d3b8-4776-bc02-8bbb56adb9da",
   "metadata": {},
   "source": [
    "# Load Models and Data"
   ]
  },
  {
   "cell_type": "markdown",
   "id": "0c0ab03b-1f1f-4677-9374-d730dde1cfaa",
   "metadata": {
    "jp-MarkdownHeadingCollapsed": true
   },
   "source": [
    "### Original data"
   ]
  },
  {
   "cell_type": "code",
   "execution_count": 6,
   "id": "5c134b36-67c2-4f1c-9078-0d672b4ad311",
   "metadata": {},
   "outputs": [
    {
     "name": "stdout",
     "output_type": "stream",
     "text": [
      "(6542, 96)\n"
     ]
    },
    {
     "name": "stderr",
     "output_type": "stream",
     "text": [
      "C:\\Users\\mcstanl1\\AppData\\Local\\Temp\\1\\ipykernel_23036\\1227225927.py:15: SettingWithCopyWarning: \n",
      "A value is trying to be set on a copy of a slice from a DataFrame\n",
      "\n",
      "See the caveats in the documentation: https://pandas.pydata.org/pandas-docs/stable/user_guide/indexing.html#returning-a-view-versus-a-copy\n",
      "  data_full.dropna(inplace=True)\n"
     ]
    }
   ],
   "source": [
    "DATA_DIR = '../../data/combined_macro_micro_wind_data.csv'\n",
    "\n",
    "data = pd.read_csv(DATA_DIR)\n",
    "\n",
    "# isolate U and V columns\n",
    "u_cols = [f'u{i}' for i in np.arange(20, 255, 5)]\n",
    "v_cols = [f'v{i}' for i in np.arange(20, 255, 5)]\n",
    "macro_cols = ['macro_ws', 'macro_wd']\n",
    "\n",
    "# big dataset\n",
    "data_full = data[u_cols + v_cols + macro_cols]\n",
    "\n",
    "# remove the empty columns and rows\n",
    "# data.dropna(axis=1, how='all', inplace=True)\n",
    "data_full.dropna(inplace=True)\n",
    "print(data_full.shape)\n",
    "\n",
    "data_u = data_full[u_cols].copy()\n",
    "data_v = data_full[v_cols].copy()\n",
    "\n",
    "# average over altitude for visualization\n",
    "data_uv = np.zeros(shape=(data_u.shape[0], 2))\n",
    "data_uv[:, 0] = data_u.values.mean(axis=1)\n",
    "data_uv[:, 1] = data_v.values.mean(axis=1)\n",
    "\n",
    "# define the indices for the u and v components\n",
    "u_idxs = np.arange(47)\n",
    "v_idxs = np.arange(47, 94)\n",
    "\n",
    "# include macro data\n",
    "macro_cols = [col for col in data_full.columns.values if 'macro' in col]\n",
    "macro_cols_w = ['macro_ws', 'macro_wd']\n",
    "\n",
    "data_macro = data_full[macro_cols].copy()"
   ]
  },
  {
   "cell_type": "code",
   "execution_count": 7,
   "id": "d71cb74f-0dc4-48f3-8b6c-4e1ff6483641",
   "metadata": {},
   "outputs": [
    {
     "name": "stdout",
     "output_type": "stream",
     "text": [
      "(6542, 96)\n"
     ]
    }
   ],
   "source": [
    "def wd_s_to_uv(ws, wd):\n",
    "    \"\"\"\n",
    "    Translate wind speed and direction to (u,v).\n",
    "    \"\"\"\n",
    "    return -ws * np.sin(wd * (np.pi / 180.)), -ws * np.cos(wd * (np.pi / 180.))\n",
    "\n",
    "def wd_s_to_u(ws, wd):\n",
    "    \"\"\"\n",
    "    Translate wind speed and direction to u.\n",
    "    \"\"\"\n",
    "    return -ws * np.sin(wd * (np.pi / 180.))\n",
    "\n",
    "def wd_s_to_v(ws, wd):\n",
    "    \"\"\"\n",
    "    Translate wind speed and direction to v.\n",
    "    \"\"\"\n",
    "    return -ws * np.cos(wd * (np.pi / 180.))\n",
    "\n",
    "# create dataframe for macro\n",
    "data_wind_macro = data_full[u_cols + v_cols].copy()\n",
    "\n",
    "# create columns for macro u and v\n",
    "data_wind_macro['u_macro'] = data_full.apply(lambda x: wd_s_to_u(ws=x['macro_ws'], wd=x['macro_wd']), axis=1)\n",
    "data_wind_macro['v_macro'] = data_full.apply(lambda x: wd_s_to_v(ws=x['macro_ws'], wd=x['macro_wd']), axis=1)\n",
    "print(data_wind_macro.shape)"
   ]
  },
  {
   "cell_type": "markdown",
   "id": "e30738ac-a972-4015-ba03-bd3d6e28fd73",
   "metadata": {
    "jp-MarkdownHeadingCollapsed": true
   },
   "source": [
    "### Models"
   ]
  },
  {
   "cell_type": "code",
   "execution_count": 2,
   "id": "e0f70e11-a6cb-4ccc-9030-3b00e897b410",
   "metadata": {},
   "outputs": [],
   "source": [
    "# GMM\n",
    "with open('../../models/gmm.pkl','rb') as f:\n",
    "    gmm = pickle.load(f)\n",
    "\n",
    "# PCA\n",
    "with open('../../models/pca.pkl','rb') as f:\n",
    "    pca = pickle.load(f)"
   ]
  },
  {
   "cell_type": "code",
   "execution_count": 3,
   "id": "298b5295-0719-4958-9d89-1ed48233445b",
   "metadata": {},
   "outputs": [],
   "source": [
    "# PCA dimension-reduced data\n",
    "with open('../../data/pca_dim_reduced_data.npy', 'rb') as f:\n",
    "    data_pca = np.load(file=f)"
   ]
  },
  {
   "cell_type": "markdown",
   "id": "c7ad2223-2a8e-41f7-89c6-6b3fa25a0f68",
   "metadata": {
    "jp-MarkdownHeadingCollapsed": true
   },
   "source": [
    "### Hold-out models"
   ]
  },
  {
   "cell_type": "code",
   "execution_count": 13,
   "id": "4b244319-6cac-4f21-b7b6-7a9d82bdef46",
   "metadata": {},
   "outputs": [
    {
     "name": "stdout",
     "output_type": "stream",
     "text": [
      "['WSW' 'SW' 'W' 'WNW']\n",
      "['(-0.001, 2.235]' '(5.364, 8.047]' '(8.047, 15.646]' '(2.235, 5.364]']\n"
     ]
    }
   ],
   "source": [
    "# create lists of macro wind dir and speed\n",
    "macro_wind_dirs = data['macro_wd_str'].value_counts().index.values[:4]\n",
    "macro_wind_speeds = data['macro_ws_str'].value_counts().index.values\n",
    "print(macro_wind_dirs)\n",
    "print(macro_wind_speeds)"
   ]
  },
  {
   "cell_type": "code",
   "execution_count": 14,
   "id": "ec8eaac8-33f4-4fc4-a4f0-139120c0e407",
   "metadata": {},
   "outputs": [],
   "source": [
    "# create 16 masks to filter out every combo of top 4 wind dir and wind speeds\n",
    "macro_masks = np.zeros(shape=(data.shape[0], 16), dtype=bool)\n",
    "dir_speed_pairs = {}\n",
    "\n",
    "for i, dir in enumerate(macro_wind_dirs):\n",
    "    for j, speed in enumerate(macro_wind_speeds):\n",
    "        macro_masks[:, 4 * i + j] = ((data['macro_wd_str'] != dir) & (data['macro_ws_str'] != speed)).values\n",
    "        dir_speed_pairs[4 * i + j] = (dir, speed)"
   ]
  },
  {
   "cell_type": "code",
   "execution_count": 15,
   "id": "d1143843-f5e9-448e-839a-e42fc050eb22",
   "metadata": {},
   "outputs": [],
   "source": [
    "# read in GMMs\n",
    "gmm_hold_outs = []\n",
    "for i in range(len(dir_speed_pairs)):\n",
    "\n",
    "    with open(f'../../models/gmm_hold_out_models/{''.join(dir_speed_pairs[i])}.pkl', 'rb') as f:\n",
    "        gmm_hold_outs.append(pickle.load(file=f))"
   ]
  },
  {
   "cell_type": "code",
   "execution_count": 17,
   "id": "2c4770e1-5a11-44b3-ad76-3bf6fe33ccc8",
   "metadata": {},
   "outputs": [],
   "source": [
    "# read in PCA objects\n",
    "NUM_PCS = 7\n",
    "NUM_GMM_COMPONENTS = 16\n",
    "pca_vecs = np.zeros(shape=(len(dir_speed_pairs), NUM_PCS, data_wind_macro.shape[1]))\n",
    "x_bars = np.zeros(shape=(len(dir_speed_pairs), data_wind_macro.shape[1]))\n",
    "\n",
    "for i in range(len(dir_speed_pairs)):\n",
    "\n",
    "    with open(f'../../models/gmm_hold_out_models/pca_obj_{''.join(dir_speed_pairs[i])}.npz', 'rb') as f:\n",
    "        np_obj_i = np.load(file=f)\n",
    "        pca_vecs[i] = np_obj_i['pca_vecs']\n",
    "        x_bars[i] = np_obj_i['x_bars']"
   ]
  },
  {
   "cell_type": "markdown",
   "id": "ba0dd088-3de6-47d6-affc-26f660cf807d",
   "metadata": {
    "jp-MarkdownHeadingCollapsed": true
   },
   "source": [
    "# Unconditional Samples"
   ]
  },
  {
   "cell_type": "code",
   "execution_count": 4,
   "id": "5668b0bd-8a82-4611-b4cd-fe25ff82d6a8",
   "metadata": {},
   "outputs": [],
   "source": [
    "# set a number of PCs to use\n",
    "NUM_PCS = 7\n",
    "\n",
    "# save orthogongal transformation -- \"h\" stands for \"high-dimensional\"\n",
    "orth_pca_vecs = pca.components_[:NUM_PCS]"
   ]
  },
  {
   "cell_type": "code",
   "execution_count": 8,
   "id": "c2e78399-40a2-475b-af2c-7437589ab743",
   "metadata": {},
   "outputs": [
    {
     "name": "stdout",
     "output_type": "stream",
     "text": [
      "(6542, 7)\n"
     ]
    }
   ],
   "source": [
    "# sample from GMM\n",
    "data_sampled = gmm.sample(n_samples=data_pca.shape[0])[0]\n",
    "print(data_sampled.shape)\n",
    "\n",
    "# transform the sampled data back to the full space\n",
    "data_sampled_reconstruct = data_sampled @ orth_pca_vecs + data_wind_macro.values.mean(axis=0)"
   ]
  },
  {
   "cell_type": "code",
   "execution_count": 10,
   "id": "d731657c-1fad-4eb1-9474-bd3f10a002bb",
   "metadata": {},
   "outputs": [],
   "source": [
    "# save data\n",
    "with open('../../data/data_sampled_reconstruct.npy', 'wb') as f:\n",
    "    np.save(file=f, arr=data_sampled_reconstruct)"
   ]
  },
  {
   "cell_type": "markdown",
   "id": "ddffb4d9-afb1-4166-ac7b-01bb0e615a9d",
   "metadata": {
    "jp-MarkdownHeadingCollapsed": true
   },
   "source": [
    "# Conditional Samples"
   ]
  },
  {
   "cell_type": "code",
   "execution_count": 11,
   "id": "c5dcaa14-4c17-43f7-afe2-e197ad7917e2",
   "metadata": {},
   "outputs": [
    {
     "name": "stdout",
     "output_type": "stream",
     "text": [
      "(7200, 47)\n",
      "(0, 2.23): 2060\n",
      "[2.23, 5.36): 1458\n",
      "[5.36, 8.05): 1629\n",
      "[8.05, 15.65): 1376\n"
     ]
    }
   ],
   "source": [
    "# compute microweather speeds for all altitudes\n",
    "data_sampled_ws = np.zeros(shape=(data_sampled_reconstruct.shape[0], 47))\n",
    "for i in range(47):\n",
    "    data_sampled_ws[:, i] = np.sqrt(data_sampled_reconstruct[:, u_idxs[i]] ** 2 + data_sampled_reconstruct[:, v_idxs[i]] ** 2)\n",
    "\n",
    "# make a numpy array of true windspeeds\n",
    "ws_cols = [col for col in data.columns.values if 'ws' in col][:47]\n",
    "data_ws = data[ws_cols].values.copy()\n",
    "print(data_ws.shape)\n",
    "\n",
    "# compute speed of sampled values\n",
    "sampled_macro_ws = np.sqrt(data_sampled_reconstruct[:, -2] ** 2 + data_sampled_reconstruct[:, -1] ** 2)\n",
    "\n",
    "# create index categories\n",
    "category_names = ['(0, 2.23)', '[2.23, 5.36)', '[5.36, 8.05)', '[8.05, 15.65)']\n",
    "category_idxs_sampled = {\n",
    "    0: sampled_macro_ws < 2.23,\n",
    "    1: (sampled_macro_ws >= 2.23) & (sampled_macro_ws < 5.36),\n",
    "    2: (sampled_macro_ws >= 5.36) & (sampled_macro_ws < 8.05),\n",
    "    3: (sampled_macro_ws > 8.05) & (sampled_macro_ws < 15.65)\n",
    "}\n",
    "\n",
    "# how many samples in each category?\n",
    "for i in range(4):\n",
    "    print(f'{category_names[i]}: {category_idxs_sampled[i].sum()}')\n",
    "\n",
    "# create windspeed mask for true data\n",
    "category_idxs_true = {\n",
    "    0: data.macro_ws < 2.23,\n",
    "    1: (data.macro_ws >= 2.23) & (data.macro_ws < 5.36),\n",
    "    2: (data.macro_ws >= 5.36) & (data.macro_ws < 8.05),\n",
    "    3: (data.macro_ws > 8.05) & (data.macro_ws < 15.65)\n",
    "}"
   ]
  },
  {
   "cell_type": "code",
   "execution_count": 12,
   "id": "657d1ae8-2bc9-43e2-8d8a-4c9c16861200",
   "metadata": {},
   "outputs": [],
   "source": [
    "# save the wind speed data\n",
    "with open('../../data/data_sampled_wind_speed.npy', 'wb') as f:\n",
    "    np.save(file=f, arr=data_sampled_ws)"
   ]
  },
  {
   "cell_type": "markdown",
   "id": "c6cc9c92-ee46-4785-ba23-f50be2dbaf24",
   "metadata": {
    "jp-MarkdownHeadingCollapsed": true
   },
   "source": [
    "# Samples from hold-out models"
   ]
  },
  {
   "cell_type": "code",
   "execution_count": 18,
   "id": "934c44c6-1faf-466b-945a-3e8e20f6959e",
   "metadata": {},
   "outputs": [],
   "source": [
    "# generate data\n",
    "N = data_wind_macro.shape[0]\n",
    "data_sampled = np.zeros(shape=(len(dir_speed_pairs), N, data_wind_macro.shape[1]))\n",
    "\n",
    "for i in range(len(dir_speed_pairs)):\n",
    "\n",
    "    # sample from gmm -- \"ld\" == \"low-dimensional\"\n",
    "    sample_ld_i = gmm_hold_outs[i].sample(n_samples=N)[0]\n",
    "\n",
    "    # project the sample to higher dimension\n",
    "    data_sampled[i] = sample_ld_i @ pca_vecs[i] + x_bars[i]"
   ]
  },
  {
   "cell_type": "code",
   "execution_count": 21,
   "id": "06308247-b745-4d0c-97a6-dfbbe418227a",
   "metadata": {},
   "outputs": [],
   "source": [
    "# obtain macro wind dir and speed for each sample\n",
    "sampled_macro_dir = np.zeros(shape=(16, N), dtype=np.object_)\n",
    "sampled_macro_speed = np.zeros(shape=(16, N))\n",
    "\n",
    "for i in range(16):\n",
    "    for j in range(N):\n",
    "\n",
    "        # direction\n",
    "        u_j, v_j = data_sampled[i, j, -2:]\n",
    "        sampled_macro_dir[i, j] = deg_to_dir(uv_to_dir(u=u_j, v=v_j))\n",
    "\n",
    "        # speed\n",
    "        sampled_macro_speed[i, j] = np.sqrt(u_j **2 + v_j ** 2)"
   ]
  },
  {
   "cell_type": "code",
   "execution_count": 22,
   "id": "267e1f55-ac30-4749-be11-ab235686e258",
   "metadata": {},
   "outputs": [],
   "source": [
    "# save data frame for each sample WITH macro dir and speed\n",
    "for i in range(16):\n",
    "    \n",
    "    # generate the data frame\n",
    "    df_i = pd.DataFrame(\n",
    "        data_sampled[0],\n",
    "        columns=u_cols + v_cols + ['macro_u', 'macro_v']\n",
    "    )\n",
    "    \n",
    "    df_i['macro_wd_str'] = sampled_macro_dir[i]\n",
    "    ws_i_ser = pd.Series(sampled_macro_speed[i])\n",
    "    df_i['macro_ws_str'] = ws_i_ser.apply(speed_num_to_str)\n",
    "\n",
    "    # save the data\n",
    "    dir_i, speed_i = dir_speed_pairs[i]\n",
    "    SAVE_PATH_I = f'../../data/gmm_hold_out/{dir_i}_{speed_i}.csv'\n",
    "    df_i.to_csv(SAVE_PATH_I)"
   ]
  },
  {
   "cell_type": "code",
   "execution_count": null,
   "id": "d06bd7c8-6c14-47cc-a47c-5cf1c6330567",
   "metadata": {},
   "outputs": [],
   "source": []
  }
 ],
 "metadata": {
  "kernelspec": {
   "display_name": "Python [conda env:opt_intervals]",
   "language": "python",
   "name": "conda-env-opt_intervals-py"
  },
  "language_info": {
   "codemirror_mode": {
    "name": "ipython",
    "version": 3
   },
   "file_extension": ".py",
   "mimetype": "text/x-python",
   "name": "python",
   "nbconvert_exporter": "python",
   "pygments_lexer": "ipython3",
   "version": "3.12.5"
  }
 },
 "nbformat": 4,
 "nbformat_minor": 5
}
